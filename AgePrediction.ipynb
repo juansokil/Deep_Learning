{
  "nbformat": 4,
  "nbformat_minor": 0,
  "metadata": {
    "colab": {
      "name": "AgePrediction.ipynb",
      "version": "0.3.2",
      "provenance": [],
      "include_colab_link": true
    },
    "language_info": {
      "codemirror_mode": {
        "name": "ipython",
        "version": 3
      },
      "file_extension": ".py",
      "mimetype": "text/x-python",
      "name": "python",
      "nbconvert_exporter": "python",
      "pygments_lexer": "ipython3",
      "version": "3.6.7"
    },
    "kernelspec": {
      "display_name": "Python 3",
      "language": "python",
      "name": "python3"
    }
  },
  "cells": [
    {
      "cell_type": "markdown",
      "metadata": {
        "id": "view-in-github",
        "colab_type": "text"
      },
      "source": [
        "<a href=\"https://colab.research.google.com/github/juansokil/Deep_Learning/blob/master/AgePrediction.ipynb\" target=\"_parent\"><img src=\"https://colab.research.google.com/assets/colab-badge.svg\" alt=\"Open In Colab\"/></a>"
      ]
    },
    {
      "cell_type": "markdown",
      "metadata": {
        "id": "QqiTzICFeUNG",
        "colab_type": "text"
      },
      "source": [
        "MODEL AGE PREDICTION"
      ]
    },
    {
      "cell_type": "code",
      "metadata": {
        "id": "IA38tCJeeUNH",
        "colab_type": "code",
        "colab": {},
        "outputId": "425edad3-5185-4c89-af62-317146d76d8b"
      },
      "source": [
        "import keras\n",
        "from keras.preprocessing import image\n",
        "from keras.callbacks import ModelCheckpoint,EarlyStopping\n",
        "from keras.layers import Dense, Activation, Dropout, Flatten, Input, Convolution2D, ZeroPadding2D, MaxPooling2D, Activation\n",
        "from keras.layers import Conv2D, AveragePooling2D\n",
        "from keras.models import Model, Sequential\n",
        "from keras import metrics"
      ],
      "execution_count": 0,
      "outputs": [
        {
          "output_type": "stream",
          "text": [
            "Using TensorFlow backend.\n"
          ],
          "name": "stderr"
        }
      ]
    },
    {
      "cell_type": "code",
      "metadata": {
        "id": "spFuE8yMeUNN",
        "colab_type": "code",
        "colab": {},
        "outputId": "84d3697c-945f-43c0-b783-e148769c6ef4"
      },
      "source": [
        "#VGG-Face model\n",
        "model = Sequential()\n",
        "model.add(ZeroPadding2D((1,1),input_shape=(224,224, 3)))\n",
        "model.add(Convolution2D(64, (3, 3), activation='relu'))\n",
        "model.add(ZeroPadding2D((1,1)))\n",
        "model.add(Convolution2D(64, (3, 3), activation='relu'))\n",
        "model.add(MaxPooling2D((2,2), strides=(2,2)))\n",
        " \n",
        "model.add(ZeroPadding2D((1,1)))\n",
        "model.add(Convolution2D(128, (3, 3), activation='relu'))\n",
        "model.add(ZeroPadding2D((1,1)))\n",
        "model.add(Convolution2D(128, (3, 3), activation='relu'))\n",
        "model.add(MaxPooling2D((2,2), strides=(2,2)))\n",
        " \n",
        "model.add(ZeroPadding2D((1,1)))\n",
        "model.add(Convolution2D(256, (3, 3), activation='relu'))\n",
        "model.add(ZeroPadding2D((1,1)))\n",
        "model.add(Convolution2D(256, (3, 3), activation='relu'))\n",
        "model.add(ZeroPadding2D((1,1)))\n",
        "model.add(Convolution2D(256, (3, 3), activation='relu'))\n",
        "model.add(MaxPooling2D((2,2), strides=(2,2)))\n",
        " \n",
        "model.add(ZeroPadding2D((1,1)))\n",
        "model.add(Convolution2D(512, (3, 3), activation='relu'))\n",
        "model.add(ZeroPadding2D((1,1)))\n",
        "model.add(Convolution2D(512, (3, 3), activation='relu'))\n",
        "model.add(ZeroPadding2D((1,1)))\n",
        "model.add(Convolution2D(512, (3, 3), activation='relu'))\n",
        "model.add(MaxPooling2D((2,2), strides=(2,2)))\n",
        " \n",
        "model.add(ZeroPadding2D((1,1)))\n",
        "model.add(Convolution2D(512, (3, 3), activation='relu'))\n",
        "model.add(ZeroPadding2D((1,1)))\n",
        "model.add(Convolution2D(512, (3, 3), activation='relu'))\n",
        "model.add(ZeroPadding2D((1,1)))\n",
        "model.add(Convolution2D(512, (3, 3), activation='relu'))\n",
        "model.add(MaxPooling2D((2,2), strides=(2,2)))\n",
        " \n",
        "model.add(Convolution2D(4096, (7, 7), activation='relu'))\n",
        "model.add(Dropout(0.5))\n",
        "model.add(Convolution2D(4096, (1, 1), activation='relu'))\n",
        "model.add(Dropout(0.5))\n",
        "model.add(Convolution2D(2622, (1, 1)))\n",
        "model.add(Flatten())\n",
        "model.add(Activation('softmax'))"
      ],
      "execution_count": 0,
      "outputs": [
        {
          "output_type": "stream",
          "text": [
            "WARNING:tensorflow:From /home/juanpablosokil/deep_learning/lib/python3.6/site-packages/tensorflow/python/framework/op_def_library.py:263: colocate_with (from tensorflow.python.framework.ops) is deprecated and will be removed in a future version.\n",
            "Instructions for updating:\n",
            "Colocations handled automatically by placer.\n",
            "WARNING:tensorflow:From /home/juanpablosokil/deep_learning/lib/python3.6/site-packages/keras/backend/tensorflow_backend.py:3445: calling dropout (from tensorflow.python.ops.nn_ops) with keep_prob is deprecated and will be removed in a future version.\n",
            "Instructions for updating:\n",
            "Please use `rate` instead of `keep_prob`. Rate should be set to `rate = 1 - keep_prob`.\n"
          ],
          "name": "stdout"
        }
      ]
    },
    {
      "cell_type": "code",
      "metadata": {
        "id": "Gs61M_0QeUNR",
        "colab_type": "code",
        "colab": {}
      },
      "source": [
        "#pre-trained weights of vgg-face model. \n",
        "#you can find it here: https://drive.google.com/file/d/1CPSeum3HpopfomUEK1gybeuIVoeJT_Eo/view?usp=sharing\n",
        "#related blog post: https://sefiks.com/2018/08/06/deep-face-recognition-with-keras/\n",
        "model.load_weights('./models/vgg_face_weights.h5')"
      ],
      "execution_count": 0,
      "outputs": []
    },
    {
      "cell_type": "code",
      "metadata": {
        "id": "r6wTefOkeUNT",
        "colab_type": "code",
        "colab": {}
      },
      "source": [
        "\n",
        "#freeze all layers of VGG-Face except last 7 one\n",
        "for layer in model.layers[:-7]:\n",
        "    layer.trainable = False\n",
        "\n",
        "base_model_output = Sequential()\n",
        "base_model_output = Convolution2D(101, (1, 1), name='predictions')(model.layers[-4].output)\n",
        "base_model_output = Flatten()(base_model_output)\n",
        "base_model_output = Activation('softmax')(base_model_output)\n",
        "\n",
        "age_model = Model(inputs=model.input, outputs=base_model_output)\n",
        "\n"
      ],
      "execution_count": 0,
      "outputs": []
    },
    {
      "cell_type": "code",
      "metadata": {
        "id": "Oxl44UwAeUNW",
        "colab_type": "code",
        "colab": {}
      },
      "source": [
        "#pre-trained weights for gender prediction: https://drive.google.com/file/d/1wUXRVlbsni2FN9-jkS_f4UTUrm1bRLyk/view?usp=sharing\n",
        "age_model.load_weights(\"./models/age_model_weights.h5\")"
      ],
      "execution_count": 0,
      "outputs": []
    },
    {
      "cell_type": "code",
      "metadata": {
        "id": "1mpTpQ9HeUNZ",
        "colab_type": "code",
        "colab": {}
      },
      "source": [
        "from keras.preprocessing import image\n",
        "from keras.preprocessing.image import ImageDataGenerator\n",
        "\n",
        "def loadImage(filepath):\n",
        "    test_img = image.load_img(filepath, target_size=(224, 224))\n",
        "    test_img = image.img_to_array(test_img)\n",
        "    test_img = np.expand_dims(test_img, axis = 0)\n",
        "    test_img /= 255\n",
        "    return test_img"
      ],
      "execution_count": 0,
      "outputs": []
    },
    {
      "cell_type": "code",
      "metadata": {
        "id": "rcdNAMzQeUNc",
        "colab_type": "code",
        "colab": {},
        "outputId": "2cc86062-a288-4011-d8f1-dc4368659379"
      },
      "source": [
        "import numpy as np\n",
        "import matplotlib.pyplot as plt\n",
        "import glob\n",
        "path = glob.glob(\"/mnt/c/Source/deep_learning/partidos_politicos/train/crop_mauriciomacri/*.jpg\")\n",
        "path\n",
        "\n",
        "\n",
        "picture = '/mnt/c/Source/deep_learning/partidos_politicos/train/crop_mauriciomacri/crop_(367, 83, 51, 51).jpg'\n",
        "img = image.load_img(picture)#, target_size=(224, 224))\n",
        "plt.imshow(img)\n",
        "plt.show()\n",
        "\n",
        "prediction = age_model.predict(loadImage(picture))\n",
        "prediction\n",
        "output_indexes = np.array([i for i in range(0, 101)])\n",
        "apparent_age = np.sum(prediction * output_indexes, axis = 1)\n",
        "print(\"apparent age: \", int(apparent_age[0]))\n",
        "\n",
        "\n"
      ],
      "execution_count": 0,
      "outputs": [
        {
          "output_type": "display_data",
          "data": {
            "image/png": "[encoded data removed]",
            "text/plain": [
              "<Figure size 432x288 with 1 Axes>"
            ]
          },
          "metadata": {
            "tags": [],
            "needs_background": "light"
          }
        },
        {
          "output_type": "stream",
          "text": [
            "apparent age:  31\n"
          ],
          "name": "stdout"
        }
      ]
    },
    {
      "cell_type": "code",
      "metadata": {
        "id": "qtuDS6l1eUNg",
        "colab_type": "code",
        "colab": {}
      },
      "source": [
        "path = glob.glob(\"/mnt/c/Source/deep_learning/partidos_politicos/train/crop_mauriciomacri/*.jpg\")\n",
        "path\n",
        "\n",
        "#picture = '/mnt/c/Source/deep_learning/partidos_politicos/train/crop_mauriciomacri/crop_(367, 83, 51, 51).jpg'\n",
        "#img = image.load_img(picture)#, target_size=(224, 224))\n",
        "#plt.imshow(img)\n",
        "#plt.show()\n",
        "edad_macri = []\n",
        "for picture in path:\n",
        "    #img = image.load_img(picture)#, target_size=(224, 224))\n",
        "    #plt.imshow(img)\n",
        "    #plt.show()\n",
        "    prediction = age_model.predict(loadImage(picture))\n",
        "    prediction\n",
        "    output_indexes = np.array([i for i in range(0, 101)])\n",
        "    apparent_age = np.sum(prediction * output_indexes, axis = 1)\n",
        "    print(\"apparent age: \", int(apparent_age[0]))\n",
        "    edad_macri.append(apparent_age)\n"
      ],
      "execution_count": 0,
      "outputs": []
    },
    {
      "cell_type": "code",
      "metadata": {
        "id": "UlaVQ3-heUNj",
        "colab_type": "code",
        "colab": {}
      },
      "source": [
        "path = glob.glob(\"/mnt/c/Source/deep_learning/partidos_politicos/train/crop_cristinafkirchner/*.jpg\")\n",
        "path\n",
        "\n",
        "#picture = '/mnt/c/Source/deep_learning/partidos_politicos/train/crop_mauriciomacri/crop_(367, 83, 51, 51).jpg'\n",
        "#img = image.load_img(picture)#, target_size=(224, 224))\n",
        "#plt.imshow(img)\n",
        "#plt.show()\n",
        "edad_cristina = []\n",
        "for picture in path:\n",
        "    #img = image.load_img(picture)#, target_size=(224, 224))\n",
        "    #plt.imshow(img)\n",
        "    #plt.show()\n",
        "    prediction = age_model.predict(loadImage(picture))\n",
        "    prediction\n",
        "    output_indexes = np.array([i for i in range(0, 101)])\n",
        "    apparent_age = np.sum(prediction * output_indexes, axis = 1)\n",
        "    print(\"apparent age: \", int(apparent_age[0]))\n",
        "    edad_cristina.append(apparent_age)\n"
      ],
      "execution_count": 0,
      "outputs": []
    },
    {
      "cell_type": "code",
      "metadata": {
        "id": "SUDXq_WKeUNn",
        "colab_type": "code",
        "colab": {}
      },
      "source": [
        "path = glob.glob(\"/mnt/c/Source/deep_learning/partidos_politicos/train/crop_nico_del_cano/*.jpg\")\n",
        "path\n",
        "\n",
        "#picture = '/mnt/c/Source/deep_learning/partidos_politicos/train/crop_mauriciomacri/crop_(367, 83, 51, 51).jpg'\n",
        "#img = image.load_img(picture)#, target_size=(224, 224))\n",
        "#plt.imshow(img)\n",
        "#plt.show()\n",
        "edad_nico = []\n",
        "for picture in path:\n",
        "    #img = image.load_img(picture)#, target_size=(224, 224))\n",
        "    #plt.imshow(img)\n",
        "    #plt.show()\n",
        "    prediction = age_model.predict(loadImage(picture))\n",
        "    prediction\n",
        "    output_indexes = np.array([i for i in range(0, 101)])\n",
        "    apparent_age = np.sum(prediction * output_indexes, axis = 1)\n",
        "    print(\"apparent age: \", int(apparent_age[0]))\n",
        "    edad_nico.append(apparent_age)"
      ],
      "execution_count": 0,
      "outputs": []
    },
    {
      "cell_type": "code",
      "metadata": {
        "id": "gHaMWRr3eUNq",
        "colab_type": "code",
        "colab": {},
        "outputId": "965e32d8-b447-430e-ed2f-8aa5545faa98"
      },
      "source": [
        "#!pip3 install seaborn\n",
        "\n",
        "import seaborn as sns \n",
        "#sns.kdeplot(edad_macri, shade=True, color=\"green\", kernel='gau')\n",
        "sns.distplot(edad_macri, bins=101,kde=False, rug=True, color=\"yellow\");\n"
      ],
      "execution_count": 0,
      "outputs": [
        {
          "output_type": "display_data",
          "data": {
            "image/png": "[encoded data removed]",
            "text/plain": [
              "<Figure size 432x288 with 1 Axes>"
            ]
          },
          "metadata": {
            "tags": [],
            "needs_background": "light"
          }
        }
      ]
    },
    {
      "cell_type": "code",
      "metadata": {
        "id": "jp9XSH3LeUNu",
        "colab_type": "code",
        "colab": {},
        "outputId": "40a1c62b-e03f-47a6-a3a9-1c28dff91965"
      },
      "source": [
        "\n",
        "sns.distplot(edad_cristina, bins=101,kde=False, rug=True, color='blue');\n"
      ],
      "execution_count": 0,
      "outputs": [
        {
          "output_type": "display_data",
          "data": {
            "image/png": "[encoded data removed]",
            "text/plain": [
              "<Figure size 432x288 with 1 Axes>"
            ]
          },
          "metadata": {
            "tags": [],
            "needs_background": "light"
          }
        }
      ]
    },
    {
      "cell_type": "code",
      "metadata": {
        "id": "JgDvx4r9eUNx",
        "colab_type": "code",
        "colab": {},
        "outputId": "68362c2b-3a55-45f7-f6aa-b58275b5cab6"
      },
      "source": [
        "\n",
        "sns.distplot(edad_nico, bins=101,kde=False, rug=True, color='red');\n"
      ],
      "execution_count": 0,
      "outputs": [
        {
          "output_type": "display_data",
          "data": {
            "image/png": "[encoded data removed]",
            "text/plain": [
              "<Figure size 432x288 with 1 Axes>"
            ]
          },
          "metadata": {
            "tags": [],
            "needs_background": "light"
          }
        }
      ]
    },
    {
      "cell_type": "code",
      "metadata": {
        "id": "YdnaqgabeUN0",
        "colab_type": "code",
        "colab": {},
        "outputId": "c9b9d8e7-a6d1-47d3-97ea-067fb899ced1"
      },
      "source": [
        "# Python program to get average of a list \n",
        "def Average(lst): \n",
        "    return sum(lst) / len(lst) \n",
        "  \n",
        "average = Average(edad_cristina) \n",
        "# Printing average of the list \n",
        "print(\"Average of the Cristina =\", average) \n",
        "\n",
        "average = Average(edad_macri) \n",
        "# Printing average of the list \n",
        "print(\"Average of the Macri =\", average) \n",
        "\n",
        "average = Average(edad_nico) \n",
        "# Printing average of the list \n",
        "print(\"Average of the Nico =\", average)\n",
        "\n"
      ],
      "execution_count": 0,
      "outputs": [
        {
          "output_type": "stream",
          "text": [
            "Average of the Cristina = [33.68536592]\n",
            "Average of the Macri = [32.06216414]\n",
            "Average of the Nico = [31.69770914]\n"
          ],
          "name": "stdout"
        }
      ]
    },
    {
      "cell_type": "code",
      "metadata": {
        "id": "tS4XiVT6eUN4",
        "colab_type": "code",
        "colab": {},
        "outputId": "dbedc6d6-0395-42be-8f74-f420beb93f9b"
      },
      "source": [
        "import numpy as np\n",
        "from scipy import stats\n",
        "macri= np.array(edad_macri)\n",
        "stats.describe(macri)\n"
      ],
      "execution_count": 0,
      "outputs": [
        {
          "output_type": "execute_result",
          "data": {
            "text/plain": [
              "DescribeResult(nobs=2761, minmax=(array([13.42041233]), array([62.231079])), mean=array([32.06216414]), variance=array([42.6850398]), skewness=array([0.85722771]), kurtosis=array([0.98423683]))"
            ]
          },
          "metadata": {
            "tags": []
          },
          "execution_count": 32
        }
      ]
    },
    {
      "cell_type": "code",
      "metadata": {
        "id": "_oeU7BHEeUN-",
        "colab_type": "code",
        "colab": {},
        "outputId": "4d1702a9-8ea9-41f4-ab3b-b91cc8867b20"
      },
      "source": [
        "import numpy as np\n",
        "from scipy import stats\n",
        "cristina= np.array(edad_cristina)\n",
        "stats.describe(cristina)"
      ],
      "execution_count": 0,
      "outputs": [
        {
          "output_type": "execute_result",
          "data": {
            "text/plain": [
              "DescribeResult(nobs=2316, minmax=(array([13.69695799]), array([65.9233613])), mean=array([33.68536592]), variance=array([49.41944031]), skewness=array([0.64996922]), kurtosis=array([0.12873551]))"
            ]
          },
          "metadata": {
            "tags": []
          },
          "execution_count": 33
        }
      ]
    },
    {
      "cell_type": "code",
      "metadata": {
        "id": "nto80x0LeUOB",
        "colab_type": "code",
        "colab": {},
        "outputId": "2b7bb8af-cade-43bc-e63b-1e299924f37e"
      },
      "source": [
        "import numpy as np\n",
        "from scipy import stats\n",
        "nico= np.array(edad_nico)\n",
        "stats.describe(nico)"
      ],
      "execution_count": 0,
      "outputs": [
        {
          "output_type": "execute_result",
          "data": {
            "text/plain": [
              "DescribeResult(nobs=2350, minmax=(array([18.60422568]), array([64.5231238])), mean=array([31.69770914]), variance=array([32.32027797]), skewness=array([1.13754732]), kurtosis=array([2.15465108]))"
            ]
          },
          "metadata": {
            "tags": []
          },
          "execution_count": 42
        }
      ]
    },
    {
      "cell_type": "code",
      "metadata": {
        "id": "2nNaTbdFeUOD",
        "colab_type": "code",
        "colab": {}
      },
      "source": [
        "import pandas as pd\n",
        "\n",
        "#plt.subplot(312)\n",
        "#caras_macri=caras_macri.remove(123)\n",
        "\n",
        "sns.violinplot(edad_macri, color=\"yellow\", alpha=0.6).set_title(\"Cambiemos\")\n"
      ],
      "execution_count": 0,
      "outputs": []
    },
    {
      "cell_type": "code",
      "metadata": {
        "id": "QaD-WxOQeUOG",
        "colab_type": "code",
        "colab": {},
        "outputId": "386843d1-2c22-4b15-e2d1-0d18abd40dcc"
      },
      "source": [
        "\n",
        "sns.boxplot(edad_macri, color=\"yellow\").set_title(\"Cambiemos\")\n",
        "\n",
        "#sns.boxplot(edad_nico)\n"
      ],
      "execution_count": 0,
      "outputs": [
        {
          "output_type": "execute_result",
          "data": {
            "text/plain": [
              "Text(0.5, 1.0, 'Cambiemos')"
            ]
          },
          "metadata": {
            "tags": []
          },
          "execution_count": 64
        },
        {
          "output_type": "display_data",
          "data": {
            "image/png": "[encoded data removed]",
            "text/plain": [
              "<Figure size 432x288 with 1 Axes>"
            ]
          },
          "metadata": {
            "tags": [],
            "needs_background": "light"
          }
        }
      ]
    },
    {
      "cell_type": "code",
      "metadata": {
        "id": "ELGQQGWUeUOK",
        "colab_type": "code",
        "colab": {},
        "outputId": "152504b2-0601-499f-fac3-9f2e81e147d8"
      },
      "source": [
        "sns.boxplot(edad_nico, color=\"red\").set_title(\"FIT\")\n"
      ],
      "execution_count": 0,
      "outputs": [
        {
          "output_type": "execute_result",
          "data": {
            "text/plain": [
              "Text(0.5, 1.0, 'FIT')"
            ]
          },
          "metadata": {
            "tags": []
          },
          "execution_count": 61
        },
        {
          "output_type": "display_data",
          "data": {
            "image/png": "[encoded data removed]",
            "text/plain": [
              "<Figure size 432x288 with 1 Axes>"
            ]
          },
          "metadata": {
            "tags": [],
            "needs_background": "light"
          }
        }
      ]
    },
    {
      "cell_type": "code",
      "metadata": {
        "id": "677LEq8OeUON",
        "colab_type": "code",
        "colab": {},
        "outputId": "2a552124-e2d5-4dc8-ffd7-b015862a28f8"
      },
      "source": [
        "sns.boxplot(edad_cristina, color=\"blue\").set_title(\"Unidad Ciudadana\")"
      ],
      "execution_count": 0,
      "outputs": [
        {
          "output_type": "execute_result",
          "data": {
            "text/plain": [
              "Text(0.5, 1.0, 'Unidad Ciudadana')"
            ]
          },
          "metadata": {
            "tags": []
          },
          "execution_count": 65
        },
        {
          "output_type": "display_data",
          "data": {
            "image/png": "[encoded data removed]",
            "text/plain": [
              "<Figure size 432x288 with 1 Axes>"
            ]
          },
          "metadata": {
            "tags": [],
            "needs_background": "light"
          }
        }
      ]
    },
    {
      "cell_type": "code",
      "metadata": {
        "id": "ZQg2V-iKeUOR",
        "colab_type": "code",
        "colab": {},
        "outputId": "75cb5a3c-9ec8-49d3-db0a-ca37a04d46fd"
      },
      "source": [
        "import pandas as pd\n",
        "\n",
        "\n",
        "#Creating pandas dataframe from numpy array\n",
        "#dataset1 = pd.DataFrame({'Cantidad':macri}, columns=columns)\n",
        "#dataset2 = pd.DataFrame({'Partido':'Unidad Ciudadana','Cantidad':cristina}, index=index)\n",
        "\n",
        "\n",
        "dataset1 = pd.DataFrame(macri)\n",
        "dataset1['Partido'] = 'Cambiemos'\n",
        "\n",
        "dataset2 = pd.DataFrame(cristina)\n",
        "dataset2['Partido'] = 'Unidad Ciudadana'\n",
        "\n",
        "dataset3 = pd.DataFrame(nico)\n",
        "dataset3['Partido'] = 'FIT'\n",
        "\n",
        "df = dataset1.append([dataset2, dataset3]).reset_index()\n",
        "df\n",
        "\n",
        "df.columns = ['index', 'Cantidad','Partido']\n",
        "#df.to_csv('dataframe_caras.csv', sep=';')\n",
        "sns.boxplot(df['Cantidad'], df['Partido'], palette=['y','b','r'])\n",
        "#sns.violinplot(df['Cantidad'], df['Partido'], alpha=0.8, palette=['y','b','r'], cut=0,  width=1.01, bw=0.5).set_title(\"Distribución de Personas por imagenes\")\n"
      ],
      "execution_count": 0,
      "outputs": [
        {
          "output_type": "execute_result",
          "data": {
            "text/plain": [
              "<matplotlib.axes._subplots.AxesSubplot at 0x7f90cac797f0>"
            ]
          },
          "metadata": {
            "tags": []
          },
          "execution_count": 91
        },
        {
          "output_type": "display_data",
          "data": {
            "image/png": "[encoded data removed]",
            "text/plain": [
              "<Figure size 432x288 with 1 Axes>"
            ]
          },
          "metadata": {
            "tags": [],
            "needs_background": "light"
          }
        }
      ]
    },
    {
      "cell_type": "code",
      "metadata": {
        "id": "FqHOTXEOeUOV",
        "colab_type": "code",
        "colab": {}
      },
      "source": [
        ""
      ],
      "execution_count": 0,
      "outputs": []
    }
  ]
}